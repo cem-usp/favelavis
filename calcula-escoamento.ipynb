{
 "cells": [
  {
   "cell_type": "code",
   "execution_count": 14,
   "id": "38fb6f4c",
   "metadata": {},
   "outputs": [],
   "source": [
    "import richdem as rd\n",
    "import geopandas as gpd\n",
    "import rasterio\n",
    "from rasterio.mask import mask"
   ]
  },
  {
   "cell_type": "code",
   "execution_count": 11,
   "id": "3dde223e",
   "metadata": {},
   "outputs": [
    {
     "name": "stderr",
     "output_type": "stream",
     "text": [
      "/Users/fernandogomes/miniconda3/envs/favelavis/lib/python3.11/site-packages/pyogrio/raw.py:198: UserWarning: Measured (M) geometry types are not supported. Original type 'Measured 3D Polygon' is converted to 'Polygon Z'\n",
      "  return ogr_read(\n"
     ]
    }
   ],
   "source": [
    "# Carregar feições\n",
    "gdf = gpd.read_file('data/SIRGAS_GPKG_favela.gpkg')"
   ]
  },
  {
   "cell_type": "code",
   "execution_count": 13,
   "id": "745ce7c0",
   "metadata": {},
   "outputs": [],
   "source": [
    "gdf = gdf.loc[gdf.fv_nome == 'São Remo', :]"
   ]
  },
  {
   "cell_type": "code",
   "execution_count": 27,
   "id": "46f1ee6a",
   "metadata": {},
   "outputs": [],
   "source": [
    "# --- 1. Caminho do raster e da geometria ---\n",
    "raster_path = \"../LiDAR_produtos/2017/MDT-2017-50cm.tiff\"\n",
    "\n",
    "# --- 2. Ler o polígono ---\n",
    "geoms = gdf.geometry.buffer(200).envelope.values"
   ]
  },
  {
   "cell_type": "code",
   "execution_count": 28,
   "id": "7328a333",
   "metadata": {},
   "outputs": [],
   "source": [
    "# --- 3. Abrir e recortar o raster ---\n",
    "with rasterio.open(raster_path) as src:\n",
    "    out_image, out_transform = mask(src, geoms, crop=True)\n",
    "    out_meta = src.meta.copy()"
   ]
  },
  {
   "cell_type": "code",
   "execution_count": 29,
   "id": "fd1a9b5c",
   "metadata": {},
   "outputs": [],
   "source": [
    "# --- 4. Atualizar metadados ---\n",
    "out_meta.update({\n",
    "    \"driver\": \"GTiff\",\n",
    "    \"height\": out_image.shape[1],\n",
    "    \"width\": out_image.shape[2],\n",
    "    \"transform\": out_transform\n",
    "})\n",
    "\n",
    "# --- 5. Salvar o raster recortado ---\n",
    "with rasterio.open(\"tmp/raster_recortado.tif\", \"w\", **out_meta) as dest:\n",
    "    dest.write(out_image)"
   ]
  },
  {
   "cell_type": "code",
   "execution_count": 30,
   "id": "62750820",
   "metadata": {},
   "outputs": [],
   "source": [
    "# Carregar DEM\n",
    "dem = rd.LoadGDAL(\"tmp/raster_recortado.tif\")"
   ]
  },
  {
   "cell_type": "code",
   "execution_count": 31,
   "id": "c20084ce",
   "metadata": {},
   "outputs": [
    {
     "data": {
      "text/plain": [
       "rdarray([[  0.     , 739.74854, 739.68176, ..., 735.27985, 735.312  ,\n",
       "            0.     ],\n",
       "         [  0.     , 739.7319 , 739.69336, ..., 735.2651 , 735.31244,\n",
       "            0.     ],\n",
       "         [  0.     , 739.6331 , 739.5885 , ..., 735.2637 , 735.3829 ,\n",
       "            0.     ],\n",
       "         ...,\n",
       "         [  0.     , 758.4797 , 758.6043 , ..., 767.0326 , 767.09216,\n",
       "            0.     ],\n",
       "         [  0.     , 758.4186 , 758.52563, ..., 766.98676, 767.0053 ,\n",
       "            0.     ],\n",
       "         [  0.     ,   0.     ,   0.     , ...,   0.     ,   0.     ,\n",
       "            0.     ]], shape=(1589, 1654), dtype=float32)"
      ]
     },
     "execution_count": 31,
     "metadata": {},
     "output_type": "execute_result"
    }
   ],
   "source": [
    "dem"
   ]
  },
  {
   "cell_type": "code",
   "execution_count": 35,
   "id": "682fee05",
   "metadata": {},
   "outputs": [
    {
     "name": "stderr",
     "output_type": "stream",
     "text": [
      "\n",
      "A Priority-Flood+Epsilon\u001b[39m\n",
      "C Barnes, R., Lehman, C., Mulla, D., 2014. Priority-flood: An optimal depression-filling and watershed-labeling algorithm for digital elevation models. Computers & Geosciences 62, 117–127. doi:10.1016/j.cageo.2013.04.024\u001b[39m\n",
      "\n",
      "c topology = D8\u001b[39m\n",
      "p Setting up boolean flood array matrix...\u001b[39m\n",
      "p Adding cells to the priority queue...\u001b[39m\n",
      "p Performing Priority-Flood+Epsilon...\u001b[39m\n",
      "\u001b[2Kt succeeded in 0.266352 s\u001b[39m==================== ] (99% - 0.0s - 1 threads)20% - 0.2s - 1 threads)\n",
      "m Cells processed = 2628206\u001b[39m\n",
      "m Cells in pits = 472240\u001b[39m\n",
      "\u001b[91mW \u001b[91mW In assigning negligible gradients to depressions, some depressions rose above the surrounding cells. This implies that a larger storage type should be used. The problem occured for 6348 of 2623278.\u001b[39m\u001b[39m\n"
     ]
    }
   ],
   "source": [
    "\n",
    "# Preencher depressões\n",
    "flow_dir = rd.FillDepressions(dem, epsilon=True)"
   ]
  },
  {
   "cell_type": "code",
   "execution_count": 36,
   "id": "cc60bfe8",
   "metadata": {},
   "outputs": [
    {
     "name": "stderr",
     "output_type": "stream",
     "text": [
      "\n",
      "A O'Callaghan (1984)/Marks (1984) D8/D4 Flow Accumulation\u001b[39m\n",
      "C O'Callaghan, J.F., Mark, D.M., 1984. The Extraction of Drainage Networks from Digital Elevation Data. Computer vision, graphics, and image processing 28, 323--344.\u001b[39m\n",
      "\n",
      "c topology = D8\u001b[39m\n",
      "\u001b[2K[================================================= ] (99% - 0.0s - 1 threads)=========                                       ] (23% - 0.0s - 1 threads)\n",
      "A Generic Flow Accumulation Algorithm\u001b[39m\n",
      "p Creating dependencies array...\n",
      "\u001b[39m\n",
      "\u001b[95md Source cells found = 748948\u001b[39m\n",
      "p Calculating flow accumulation...\u001b[39m\n",
      "\u001b[2Kt Wall-time       = 0.13465 s\u001b[39m================ ] (99% - 0.0s - 1 threads)\n"
     ]
    }
   ],
   "source": [
    "# Acumulação de fluxo\n",
    "flow_acc = rd.FlowAccumulation(flow_dir, method='D8')"
   ]
  },
  {
   "cell_type": "code",
   "execution_count": 37,
   "id": "40177ab5",
   "metadata": {},
   "outputs": [],
   "source": [
    "# Salvar resultado\n",
    "rd.SaveGDAL(\"tmp/flow_accumulation.tif\", flow_acc)"
   ]
  },
  {
   "cell_type": "code",
   "execution_count": 8,
   "id": "ee4be4d4",
   "metadata": {},
   "outputs": [
    {
     "data": {
      "image/png": "[encoded data removed]",
      "text/plain": [
       "<Figure size 800x300 with 3 Axes>"
      ]
     },
     "metadata": {},
     "output_type": "display_data"
    }
   ],
   "source": [
    "import numpy as np\n",
    "from skimage.morphology import binary_dilation, binary_erosion, disk\n",
    "import matplotlib.pyplot as plt\n",
    "\n",
    "# Imagem sintética binária\n",
    "image = np.zeros((20, 20), dtype=np.uint8)\n",
    "image[5:15, 5:15] = 1\n",
    "\n",
    "# Dilatação e Erosão\n",
    "dilated = binary_dilation(image, footprint=disk(2))\n",
    "eroded = binary_erosion(image, footprint=disk(2))\n",
    "\n",
    "fig, axes = plt.subplots(1, 3, figsize=(8, 3))\n",
    "axes[0].imshow(image, cmap='gray'); axes[0].set_title('Original')\n",
    "axes[1].imshow(dilated, cmap='gray'); axes[1].set_title('Dilatação')\n",
    "axes[2].imshow(eroded, cmap='gray'); axes[2].set_title('Erosão')\n",
    "plt.show()"
   ]
  },
  {
   "cell_type": "code",
   "execution_count": null,
   "id": "8e665a0b",
   "metadata": {},
   "outputs": [],
   "source": []
  }
 ],
 "metadata": {
  "kernelspec": {
   "display_name": "favelavis",
   "language": "python",
   "name": "python3"
  },
  "language_info": {
   "codemirror_mode": {
    "name": "ipython",
    "version": 3
   },
   "file_extension": ".py",
   "mimetype": "text/x-python",
   "name": "python",
   "nbconvert_exporter": "python",
   "pygments_lexer": "ipython3",
   "version": "3.11.13"
  }
 },
 "nbformat": 4,
 "nbformat_minor": 5
}
